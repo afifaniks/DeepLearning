{
 "cells": [
  {
   "cell_type": "code",
   "execution_count": 1,
   "metadata": {},
   "outputs": [],
   "source": [
    "import numpy as np"
   ]
  },
  {
   "cell_type": "code",
   "execution_count": 26,
   "metadata": {},
   "outputs": [
    {
     "name": "stdout",
     "output_type": "stream",
     "text": [
      "[[-0.16595599]\n",
      " [ 0.44064899]\n",
      " [-0.99977125]]\n",
      "Actual Out \n",
      " [[0]\n",
      " [1]\n",
      " [1]\n",
      " [0]]\n",
      "Network Out \n",
      " [[0.00679672]\n",
      " [0.99445583]\n",
      " [0.99548516]\n",
      " [0.00553614]]\n"
     ]
    }
   ],
   "source": [
    "def activation(z):\n",
    "    return  1/(1 + np.exp(-z))\n",
    "\n",
    "def activation_derivative(x):\n",
    "    return x * (1 - x)\n",
    "\n",
    "training_inputs = np.array([[0, 0, 1],\n",
    "                           [1, 1, 1],\n",
    "                           [1, 0, 1],\n",
    "                           [0, 1, 1]])\n",
    "\n",
    "training_outputs = np.array([[0, 1, 1, 0]]).T\n",
    "\n",
    "np.random.seed(1)\n",
    "\n",
    "random_weights = 2 * np.random.random((3, 1)) - 1\n",
    "\n",
    "print(random_weights)\n",
    "\n",
    "for i in range(20000):\n",
    "    input_layer = training_inputs\n",
    "    outputs = activation(np.dot(input_layer, random_weights))\n",
    "    \n",
    "    error = training_outputs - outputs\n",
    "    adjustments = error * activation_derivative(outputs)\n",
    "    random_weights += np.dot(input_layer.T, adjustments)\n",
    "    \n",
    "print(\"Actual Out \\n\", training_outputs)\n",
    "print(\"Network Out \\n\", outputs)"
   ]
  },
  {
   "cell_type": "code",
   "execution_count": null,
   "metadata": {},
   "outputs": [],
   "source": []
  }
 ],
 "metadata": {
  "kernelspec": {
   "display_name": "Python 3",
   "language": "python",
   "name": "python3"
  },
  "language_info": {
   "codemirror_mode": {
    "name": "ipython",
    "version": 3
   },
   "file_extension": ".py",
   "mimetype": "text/x-python",
   "name": "python",
   "nbconvert_exporter": "python",
   "pygments_lexer": "ipython3",
   "version": "3.6.5"
  }
 },
 "nbformat": 4,
 "nbformat_minor": 2
}
