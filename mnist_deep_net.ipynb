{
 "cells": [
  {
   "cell_type": "markdown",
   "metadata": {},
   "source": [
    "# MNIST with Tensorflow"
   ]
  },
  {
   "cell_type": "code",
   "execution_count": 36,
   "metadata": {},
   "outputs": [],
   "source": [
    "import tensorflow as tf\n",
    "from tensorflow.examples.tutorials.mnist import input_data"
   ]
  },
  {
   "cell_type": "code",
   "execution_count": 37,
   "metadata": {
    "scrolled": true
   },
   "outputs": [
    {
     "name": "stdout",
     "output_type": "stream",
     "text": [
      "Extracting /tmp/data/train-images-idx3-ubyte.gz\n",
      "Extracting /tmp/data/train-labels-idx1-ubyte.gz\n",
      "Extracting /tmp/data/t10k-images-idx3-ubyte.gz\n",
      "Extracting /tmp/data/t10k-labels-idx1-ubyte.gz\n",
      "Epoch  0 / 20  loss:  151584.64884090424 Accuracy:  0.8894\n",
      "Epoch  1 / 20  loss:  37225.97951078415 Accuracy:  0.9145\n",
      "Epoch  2 / 20  loss:  21774.477784395218 Accuracy:  0.9259\n",
      "Epoch  3 / 20  loss:  14172.303066082299 Accuracy:  0.93\n",
      "Epoch  4 / 20  loss:  9381.919899439812 Accuracy:  0.9365\n",
      "Epoch  5 / 20  loss:  6233.928498182877 Accuracy:  0.9391\n",
      "Epoch  6 / 20  loss:  4426.918419747632 Accuracy:  0.9422\n",
      "Epoch  7 / 20  loss:  2982.7666646081707 Accuracy:  0.9418\n",
      "Epoch  8 / 20  loss:  2064.5006340243585 Accuracy:  0.9466\n",
      "Epoch  9 / 20  loss:  1420.253580200137 Accuracy:  0.9493\n",
      "Epoch  10 / 20  loss:  1226.4316651989504 Accuracy:  0.9492\n",
      "Epoch  11 / 20  loss:  1109.110350958707 Accuracy:  0.9486\n",
      "Epoch  12 / 20  loss:  963.00878033705 Accuracy:  0.9521\n",
      "Epoch  13 / 20  loss:  877.1874082159686 Accuracy:  0.9551\n",
      "Epoch  14 / 20  loss:  899.8511801836149 Accuracy:  0.9555\n",
      "Epoch  15 / 20  loss:  697.9663458268918 Accuracy:  0.9577\n",
      "Epoch  16 / 20  loss:  598.6974335817312 Accuracy:  0.9568\n",
      "Epoch  17 / 20  loss:  580.6938985404488 Accuracy:  0.9596\n",
      "Epoch  18 / 20  loss:  650.8974480213401 Accuracy:  0.957\n",
      "Epoch  19 / 20  loss:  614.3202316076523 Accuracy:  0.9549\n",
      "Epoch  20 / 20  loss:  550.1652760581767 Accuracy:  0.9581\n"
     ]
    }
   ],
   "source": [
    "mnist = input_data.read_data_sets(\"/tmp/data/\", one_hot=True)\n",
    "\n",
    "nodes_hidden_layer1 = 500\n",
    "nodes_hidden_layer2 = 500\n",
    "nodes_hidden_layer3 = 500\n",
    "\n",
    "number_classes = 10\n",
    "batch_size = 100\n",
    "\n",
    "x = tf.placeholder('float', [None, 784])\n",
    "y = tf.placeholder('float')\n",
    "\n",
    "def nn_model(data):\n",
    "    hidden_1_layer = {'weights': tf.Variable(tf.random_normal([784, nodes_hidden_layer1])),\n",
    "                     'biases': tf.Variable(tf.random_normal([nodes_hidden_layer1]))}\n",
    "    hidden_2_layer = {'weights': tf.Variable(tf.random_normal([nodes_hidden_layer1, nodes_hidden_layer2])),\n",
    "                     'biases': tf.Variable(tf.random_normal([nodes_hidden_layer2]))}\n",
    "    hidden_3_layer = {'weights': tf.Variable(tf.random_normal([nodes_hidden_layer2, nodes_hidden_layer3])),\n",
    "                     'biases': tf.Variable(tf.random_normal([nodes_hidden_layer3]))}\n",
    "    output_layer = {'weights': tf.Variable(tf.random_normal([nodes_hidden_layer3, number_classes])),\n",
    "                     'biases': tf.Variable(tf.random_normal([number_classes]))}\n",
    "    \n",
    "    # input * weights + bias\n",
    "    \n",
    "    layer_1 = tf.add(tf.matmul(data, hidden_1_layer['weights']), hidden_1_layer['biases'])\n",
    "    layer_1 = tf.nn.relu(layer_1)\n",
    "    \n",
    "    layer_2 = tf.add(tf.matmul(layer_1, hidden_2_layer['weights']), hidden_2_layer['biases'])\n",
    "    layer_2 = tf.nn.relu(layer_1)\n",
    "    \n",
    "    layer_3 = tf.add(tf.matmul(layer_2, hidden_3_layer['weights']), hidden_3_layer['biases'])\n",
    "    layer_3 = tf.nn.relu(layer_3)\n",
    "    \n",
    "    output = tf.add(tf.matmul(layer_3, output_layer['weights']), output_layer['biases'])\n",
    "    \n",
    "    return output\n",
    "    \n",
    "def train_nn(x):\n",
    "    predict = nn_model(x)\n",
    "\n",
    "    cost = tf.reduce_mean(tf.nn.softmax_cross_entropy_with_logits(logits=predict, labels=y))\n",
    "    optimizer = tf.train.AdamOptimizer().minimize(cost)\n",
    "\n",
    "    number_epochs = 20\n",
    "\n",
    "    with tf.Session() as session:\n",
    "        session.run(tf.initialize_all_variables())\n",
    "\n",
    "        for n in range(number_epochs + 1):\n",
    "            epoch_loss = 0\n",
    "\n",
    "            for _ in range(int(mnist.train.num_examples/batch_size)):\n",
    "                epoch_x, epoch_y = mnist.train.next_batch(batch_size)\n",
    "                _, c = session.run([optimizer, cost], feed_dict={x: epoch_x, y: epoch_y})\n",
    "\n",
    "                epoch_loss += c\n",
    "\n",
    "            print('Epoch ', n, '/', number_epochs, ' loss: ', epoch_loss, end=' ')\n",
    "\n",
    "            correct = tf.equal(tf.argmax(predict, 1), tf.argmax(y, 1))\n",
    "\n",
    "            accuracy = tf.reduce_mean(tf.cast(correct, 'float'))\n",
    "            print('Accuracy: ', accuracy.eval({x:mnist.test.images, y:mnist.test.labels}))\n",
    "            \n",
    "train_nn(x)"
   ]
  },
  {
   "cell_type": "code",
   "execution_count": null,
   "metadata": {},
   "outputs": [],
   "source": []
  },
  {
   "cell_type": "code",
   "execution_count": null,
   "metadata": {},
   "outputs": [],
   "source": []
  }
 ],
 "metadata": {
  "kernelspec": {
   "display_name": "Python 3",
   "language": "python",
   "name": "python3"
  },
  "language_info": {
   "codemirror_mode": {
    "name": "ipython",
    "version": 3
   },
   "file_extension": ".py",
   "mimetype": "text/x-python",
   "name": "python",
   "nbconvert_exporter": "python",
   "pygments_lexer": "ipython3",
   "version": "3.7.1"
  }
 },
 "nbformat": 4,
 "nbformat_minor": 2
}
