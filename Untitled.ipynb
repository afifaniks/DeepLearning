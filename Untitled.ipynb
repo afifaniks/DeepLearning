{
 "cells": [
  {
   "cell_type": "code",
   "execution_count": 16,
   "metadata": {},
   "outputs": [
    {
     "name": "stdout",
     "output_type": "stream",
     "text": [
      "1\n",
      "2\n",
      "3\n",
      "4\n",
      "5\n",
      "6\n",
      "Enter value: 5\n",
      "5  was found\n"
     ]
    }
   ],
   "source": [
    "X =[]\n",
    "\n",
    "# Taking input\n",
    "for i in range(6):\n",
    "    X.append(int(input()))\n",
    "\n",
    "# Input Search Value\n",
    "search = int(input(\"Enter value: \"))\n",
    "\n",
    "flag = 0\n",
    "\n",
    "for i in range(len(X)):\n",
    "    if X[i] == search:\n",
    "        print(search, \" was found\")\n",
    "        flag = 1\n",
    "        break\n",
    "\n",
    "if flag == 0:\n",
    "    print(search, \" wasn't found\")"
   ]
  },
  {
   "cell_type": "markdown",
   "metadata": {},
   "source": [
    "## X.append(22)"
   ]
  },
  {
   "cell_type": "code",
   "execution_count": 11,
   "metadata": {},
   "outputs": [
    {
     "data": {
      "text/plain": [
       "['1', '2', '3', '45', 22]"
      ]
     },
     "execution_count": 11,
     "metadata": {},
     "output_type": "execute_result"
    }
   ],
   "source": [
    "X"
   ]
  },
  {
   "cell_type": "code",
   "execution_count": null,
   "metadata": {},
   "outputs": [],
   "source": []
  }
 ],
 "metadata": {
  "kernelspec": {
   "display_name": "Python 3",
   "language": "python",
   "name": "python3"
  },
  "language_info": {
   "codemirror_mode": {
    "name": "ipython",
    "version": 3
   },
   "file_extension": ".py",
   "mimetype": "text/x-python",
   "name": "python",
   "nbconvert_exporter": "python",
   "pygments_lexer": "ipython3",
   "version": "3.6.8"
  }
 },
 "nbformat": 4,
 "nbformat_minor": 2
}
